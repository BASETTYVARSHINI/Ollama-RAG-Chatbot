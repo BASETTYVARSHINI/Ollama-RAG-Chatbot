{
 "cells": [
  {
   "cell_type": "code",
   "execution_count": 17,
   "metadata": {},
   "outputs": [],
   "source": [
    "# Step 1: Import required libraries\n",
    "from langchain_community.chat_models import ChatOllama\n",
    "from langchain.text_splitter import CharacterTextSplitter\n",
    "from langchain.embeddings import OllamaEmbeddings\n",
    "from langchain.vectorstores import FAISS\n",
    "from langchain.chains import RetrievalQA  \n",
    "from PyPDF2 import PdfReader\n",
    "from langchain.schema import Document\n"
   ]
  },
  {
   "cell_type": "code",
   "execution_count": null,
   "metadata": {},
   "outputs": [],
   "source": [
    "# Step 2: Function to load and extract text from the PDF\n",
    "def extract_text_from_pdf(pdf_path):\n",
    "    try:\n",
    "        pdf_reader = PdfReader(pdf_path)\n",
    "        text = \"\\n\".join([page.extract_text() for page in pdf_reader.pages if page.extract_text()])\n",
    "        if not text:\n",
    "            raise ValueError(\"No text found in the PDF!\")\n",
    "        return text\n",
    "    except Exception as e:\n",
    "        print(f\"Error loading PDF: {e}\")\n",
    "        return None"
   ]
  },
  {
   "cell_type": "code",
   "execution_count": 19,
   "metadata": {},
   "outputs": [],
   "source": [
    "# Step 4: Function to initialize the language model\n",
    "def initialize_llm(model_name=\"llama3.1\"):\n",
    "    return ChatOllama(model=model_name, keep_alive=\"3h\", temperature=0)"
   ]
  },
  {
   "cell_type": "code",
   "execution_count": 26,
   "metadata": {},
   "outputs": [
    {
     "data": {
      "text/plain": [
       "AIMessage(content='Hello!!! How are you today? Is there something I can help you with or would you like to chat?', additional_kwargs={}, response_metadata={'model': 'llama3.1', 'created_at': '2025-03-22T18:09:42.2618829Z', 'message': {'role': 'assistant', 'content': ''}, 'done_reason': 'stop', 'done': True, 'total_duration': 4098981200, 'load_duration': 67567500, 'prompt_eval_count': 12, 'prompt_eval_duration': 745879000, 'eval_count': 23, 'eval_duration': 3279744000}, id='run-529cb6fb-4508-45ee-b53c-c62425aaf9c1-0')"
      ]
     },
     "execution_count": 26,
     "metadata": {},
     "output_type": "execute_result"
    }
   ],
   "source": [
    "llm.invoke(\"hello!!\")"
   ]
  },
  {
   "cell_type": "code",
   "execution_count": 28,
   "metadata": {},
   "outputs": [
    {
     "data": {
      "text/plain": [
       "AIMessage(content='The location of Vellore Institute of Technology (VIT) Chennai is in Taramani, Chennai, Tamil Nadu, India. Specifically, it is situated at:\\n\\nVIT Bhopal Campus\\nTaramani,\\nChennai - 600113.\\n\\nPlease note that VIT has multiple campuses across the country, including Vellore, Chennai, and Bhopal.', additional_kwargs={}, response_metadata={'model': 'llama3.1', 'created_at': '2025-03-22T18:10:20.5851648Z', 'message': {'role': 'assistant', 'content': ''}, 'done_reason': 'stop', 'done': True, 'total_duration': 12276715000, 'load_duration': 64216700, 'prompt_eval_count': 19, 'prompt_eval_duration': 1016335000, 'eval_count': 77, 'eval_duration': 11193216000}, id='run-1849a12c-1490-4493-b28a-03303ad583f6-0')"
      ]
     },
     "execution_count": 28,
     "metadata": {},
     "output_type": "execute_result"
    }
   ],
   "source": [
    "llm.invoke(\"What is the location of VIT Chennai?\")"
   ]
  },
  {
   "cell_type": "code",
   "execution_count": 21,
   "metadata": {},
   "outputs": [],
   "source": [
    "# Step 5: Function to process text and create vector embeddings\n",
    "def create_vector_store(text):\n",
    "    docs = [Document(page_content=text, metadata={\"source\": \"faculty_information\"})]\n",
    "    text_splitter = CharacterTextSplitter(chunk_size=100, chunk_overlap=0)\n",
    "    chunked_documents = text_splitter.split_documents(docs)\n",
    "\n",
    "    print(f\"Total Chunks Created: {len(chunked_documents)}\")\n",
    "    embeddings = OllamaEmbeddings(model=\"nomic-embed-text\", show_progress=False)\n",
    "    db = FAISS.from_documents(chunked_documents, embeddings)\n",
    "    return db"
   ]
  },
  {
   "cell_type": "code",
   "execution_count": 22,
   "metadata": {},
   "outputs": [],
   "source": [
    "# Step 6: Function to set up the RAG model\n",
    "def setup_qa_system(vector_store, llm):\n",
    "    retriever = vector_store.as_retriever(search_type=\"similarity\", search_kwargs={'k': 4})\n",
    "    return RetrievalQA.from_chain_type(llm=llm, retriever=retriever, chain_type=\"stuff\")"
   ]
  },
  {
   "cell_type": "code",
   "execution_count": 23,
   "metadata": {},
   "outputs": [],
   "source": [
    "# Step 7: Function to query the chatbot\n",
    "def ask_question(qa_system, question):\n",
    "    response = qa_system({\"query\": question})\n",
    "    return response[\"result\"]"
   ]
  },
  {
   "cell_type": "code",
   "execution_count": 25,
   "metadata": {},
   "outputs": [
    {
     "name": "stdout",
     "output_type": "stream",
     "text": [
      "WELCOME TO VIT ASSIST CHATBOT\n",
      "Total Chunks Created: 1\n"
     ]
    },
    {
     "name": "stderr",
     "output_type": "stream",
     "text": [
      "C:\\Users\\varsh\\AppData\\Local\\Temp\\ipykernel_10540\\3303579367.py:8: LangChainDeprecationWarning: The class `OllamaEmbeddings` was deprecated in LangChain 0.3.1 and will be removed in 1.0.0. An updated version of the class exists in the :class:`~langchain-ollama package and should be used instead. To use it run `pip install -U :class:`~langchain-ollama` and import as `from :class:`~langchain_ollama import OllamaEmbeddings``.\n",
      "  embeddings = OllamaEmbeddings(model=\"nomic-embed-text\", show_progress=False)\n"
     ]
    },
    {
     "name": "stdout",
     "output_type": "stream",
     "text": [
      "\n",
      "USER: HELLO\n"
     ]
    },
    {
     "name": "stderr",
     "output_type": "stream",
     "text": [
      "C:\\Users\\varsh\\AppData\\Local\\Temp\\ipykernel_10540\\182349435.py:3: LangChainDeprecationWarning: The method `Chain.__call__` was deprecated in langchain 0.1.0 and will be removed in 1.0. Use :meth:`~invoke` instead.\n",
      "  response = qa_system({\"query\": question})\n"
     ]
    },
    {
     "name": "stdout",
     "output_type": "stream",
     "text": [
      "BOT: Hello! How can I assist you today? You had some faculty details from VIT Chennai that you wanted to refer to, right?\n",
      "\n",
      "USER: Sreedevi V T has cabin detail\n",
      "BOT: Dr. Sreedevi V T has a cabin detail of AB1, 7th floor, Annex, 7th Cabin.\n",
      "\n",
      "USER: What is the location of VIT Chennai?\n",
      "BOT: I don't know. The provided context only contains faculty details and does not mention the location of VIT Chennai.\n"
     ]
    }
   ],
   "source": [
    "\n",
    "# ---- MAIN EXECUTION ----\n",
    "if __name__ == \"__main__\":\n",
    "    print(\"WELCOME TO VIT ASSIST CHATBOT\")\n",
    "\n",
    "    # Load PDF and initialize components\n",
    "    pdf_path = \"data/VITC_FACULTY.pdf\"\n",
    "    extracted_text = extract_text_from_pdf(pdf_path)\n",
    "\n",
    "    if extracted_text:\n",
    "        llm = initialize_llm()\n",
    "        vector_store = create_vector_store(extracted_text)\n",
    "        qa_system = setup_qa_system(vector_store, llm)\n",
    "\n",
    "        # Example Queries\n",
    "        questions = [\"HELLO\", \"Sreedevi V T has cabin detail\", \"What is the location of VIT Chennai?\"]\n",
    "        for q in questions:\n",
    "            print(f\"\\nUSER: {q}\")\n",
    "            print(f\"BOT: {ask_question(qa_system, q)}\")\n",
    "    else:\n",
    "        print(\"Chatbot setup failed due to PDF extraction error.\")"
   ]
  }
 ],
 "metadata": {
  "kernelspec": {
   "display_name": "faiss_1.8.0",
   "language": "python",
   "name": "python3"
  },
  "language_info": {
   "codemirror_mode": {
    "name": "ipython",
    "version": 3
   },
   "file_extension": ".py",
   "mimetype": "text/x-python",
   "name": "python",
   "nbconvert_exporter": "python",
   "pygments_lexer": "ipython3",
   "version": "3.12.7"
  }
 },
 "nbformat": 4,
 "nbformat_minor": 2
}
